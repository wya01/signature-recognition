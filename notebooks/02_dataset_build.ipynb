{
 "cells": [
  {
   "cell_type": "code",
   "execution_count": 5,
   "id": "332748fd-240c-4f83-bf83-6bfc0defc120",
   "metadata": {},
   "outputs": [],
   "source": [
    "# 第 1 步：导入库并设置路径\n",
    "\n",
    "import shutil\n",
    "import random\n",
    "from pathlib import Path\n",
    "from sklearn.model_selection import train_test_split\n",
    "\n",
    "# 设置路径\n",
    "processed_dir = Path(\"E:/MyProject/signature_project/processed_data\")\n",
    "split_root = Path(\"E:/MyProject/signature_project/data_splits\")\n",
    "\n",
    "# 设置随机种子 & 创建目录\n",
    "random.seed(42)\n",
    "(split_root / \"train\").mkdir(parents=True, exist_ok=True)\n",
    "(split_root / \"val\").mkdir(parents=True, exist_ok=True)\n",
    "(split_root / \"test\").mkdir(parents=True, exist_ok=True)\n"
   ]
  },
  {
   "cell_type": "code",
   "execution_count": 9,
   "id": "c50dcb16-3715-44b2-90b8-45735b78462b",
   "metadata": {},
   "outputs": [
    {
     "name": "stdout",
     "output_type": "stream",
     "text": [
      " 数据集划分完成：train / val / test\n"
     ]
    }
   ],
   "source": [
    "# 第 2 步：划分数据并复制图像\n",
    "\n",
    "for person_dir in sorted(processed_dir.iterdir()):\n",
    "    if not person_dir.is_dir():\n",
    "        continue\n",
    "\n",
    "    all_images = list(person_dir.glob(\"original_*.png\"))\n",
    "    train_imgs, testval_imgs = train_test_split(all_images, test_size=0.3, random_state=42)\n",
    "    val_imgs, test_imgs = train_test_split(testval_imgs, test_size=0.66, random_state=42)  # ≈10% val, 20% test\n",
    "\n",
    "    # 复制函数\n",
    "    def copy_files(file_list, split_name):\n",
    "        split_path = split_root / split_name / person_dir.name\n",
    "        split_path.mkdir(parents=True, exist_ok=True)\n",
    "        for img in file_list:\n",
    "            shutil.copy(img, split_path / img.name)\n",
    "\n",
    "    copy_files(train_imgs, \"train\")\n",
    "    copy_files(val_imgs, \"val\")\n",
    "    copy_files(test_imgs, \"test\")\n",
    "\n",
    "print(\" 数据集划分完成：train / val / test\")"
   ]
  },
  {
   "cell_type": "code",
   "execution_count": null,
   "id": "23c431dc-8fcd-4e20-9f69-84ecd7c3446e",
   "metadata": {},
   "outputs": [],
   "source": []
  }
 ],
 "metadata": {
  "kernelspec": {
   "display_name": "Python (signenv)",
   "language": "python",
   "name": "signenv"
  },
  "language_info": {
   "codemirror_mode": {
    "name": "ipython",
    "version": 3
   },
   "file_extension": ".py",
   "mimetype": "text/x-python",
   "name": "python",
   "nbconvert_exporter": "python",
   "pygments_lexer": "ipython3",
   "version": "3.10.18"
  }
 },
 "nbformat": 4,
 "nbformat_minor": 5
}
