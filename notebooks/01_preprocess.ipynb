{
 "cells": [
  {
   "cell_type": "code",
   "execution_count": null,
   "id": "135a3905-faa0-40e8-937b-ba42b545da75",
   "metadata": {},
   "outputs": [],
   "source": [
    "!pip install opencv-python-headless"
   ]
  },
  {
   "cell_type": "code",
   "execution_count": null,
   "id": "9c5afc49-24ca-401a-b3af-811db82f61a1",
   "metadata": {},
   "outputs": [],
   "source": [
    "!pip install tqdm"
   ]
  },
  {
   "cell_type": "code",
   "execution_count": 2,
   "id": "cb2b3011-03d0-46ef-9e66-ef809f60bea2",
   "metadata": {},
   "outputs": [],
   "source": [
    "# Step 1: 导入必要的库\n",
    "import os\n",
    "import cv2\n",
    "import numpy as np\n",
    "from tqdm import tqdm\n",
    "from pathlib import Path\n"
   ]
  },
  {
   "cell_type": "code",
   "execution_count": 4,
   "id": "2fd07564-ed18-42d3-b9e6-61becc77ea94",
   "metadata": {},
   "outputs": [],
   "source": [
    "# Step 2: 定义输入输出路径\n",
    "\n",
    "RAW_DATA_DIR = Path(\"../raw_data/CEDAR\")\n",
    "PROCESSED_DATA_DIR = Path(\"../processed_data\")\n",
    "PROCESSED_DATA_DIR.mkdir(exist_ok=True)\n"
   ]
  },
  {
   "cell_type": "code",
   "execution_count": 6,
   "id": "7e94b2ba-1a9e-460a-854e-408a9a5e028d",
   "metadata": {},
   "outputs": [],
   "source": [
    "# Step 3: 定义预处理函数\n",
    "def preprocess_signature(image_path, size=(220, 155)):\n",
    "    img = cv2.imread(str(image_path), cv2.IMREAD_GRAYSCALE)\n",
    "    if img is None:\n",
    "        raise ValueError(f\"无法读取图像: {image_path}\")\n",
    "\n",
    "    img_resized = cv2.resize(img, size)  # 图像统一尺寸：220 × 155\n",
    "    _, img_thresh = cv2.threshold(img_resized, 0, 255, cv2.THRESH_BINARY + cv2.THRESH_OTSU)\n",
    "    img_inv = cv2.bitwise_not(img_thresh)\n",
    "    \n",
    "    return img_inv"
   ]
  },
  {
   "cell_type": "code",
   "execution_count": 8,
   "id": "bd3d85c6-0acd-4b53-9a5a-21256a6ab10c",
   "metadata": {},
   "outputs": [],
   "source": [
    "# Step 4: 遍历处理所有图像并保存\n",
    "\n",
    "def process_all_signatures():\n",
    "    for person_dir in sorted(RAW_DATA_DIR.iterdir()):\n",
    "        if person_dir.is_dir():\n",
    "            out_dir = PROCESSED_DATA_DIR / person_dir.name\n",
    "            out_dir.mkdir(exist_ok=True)\n",
    "            \n",
    "            for img_file in tqdm(person_dir.glob(\"*.png\"), desc=f\"Processing {person_dir.name}\"):\n",
    "                try:\n",
    "                    img_processed = preprocess_signature(img_file)\n",
    "                    save_path = out_dir / img_file.name\n",
    "                    cv2.imwrite(str(save_path), img_processed)\n",
    "                except Exception as e:\n",
    "                    print(f\"❌ Error processing {img_file}: {e}\")\n"
   ]
  },
  {
   "cell_type": "code",
   "execution_count": 10,
   "id": "b02420e8-d882-4dc5-b731-2f680973e802",
   "metadata": {},
   "outputs": [
    {
     "name": "stderr",
     "output_type": "stream",
     "text": [
      "Processing 1: 48it [00:00, 116.62it/s]\n",
      "Processing 10: 48it [00:00, 125.73it/s]\n",
      "Processing 11: 48it [00:00, 131.57it/s]\n",
      "Processing 12: 48it [00:00, 101.50it/s]\n",
      "Processing 13: 48it [00:00, 106.90it/s]\n",
      "Processing 14: 48it [00:00, 88.85it/s]\n",
      "Processing 15: 48it [00:00, 90.26it/s]\n",
      "Processing 16: 48it [00:00, 118.34it/s]\n",
      "Processing 17: 48it [00:00, 151.44it/s]\n",
      "Processing 18: 48it [00:00, 152.39it/s]\n",
      "Processing 19: 48it [00:00, 177.36it/s]\n",
      "Processing 2: 48it [00:00, 116.89it/s]\n",
      "Processing 20: 48it [00:00, 161.98it/s]\n",
      "Processing 21: 48it [00:00, 129.95it/s]\n",
      "Processing 22: 48it [00:00, 168.27it/s]\n",
      "Processing 23: 48it [00:00, 121.74it/s]\n",
      "Processing 24: 48it [00:00, 155.13it/s]\n",
      "Processing 25: 48it [00:00, 172.60it/s]\n",
      "Processing 26: 48it [00:00, 77.87it/s]\n",
      "Processing 27: 48it [00:00, 98.75it/s] \n",
      "Processing 28: 48it [00:00, 116.90it/s]\n",
      "Processing 29: 48it [00:00, 104.32it/s]\n",
      "Processing 3: 48it [00:00, 122.67it/s]\n",
      "Processing 30: 48it [00:00, 153.78it/s]\n",
      "Processing 31: 48it [00:00, 108.87it/s]\n",
      "Processing 32: 48it [00:00, 131.87it/s]\n",
      "Processing 33: 48it [00:00, 156.64it/s]\n",
      "Processing 34: 48it [00:00, 86.91it/s]\n",
      "Processing 35: 48it [00:00, 153.67it/s]\n",
      "Processing 36: 48it [00:00, 159.19it/s]\n",
      "Processing 37: 48it [00:00, 130.07it/s]\n",
      "Processing 38: 48it [00:00, 178.59it/s]\n",
      "Processing 39: 48it [00:00, 88.11it/s] \n",
      "Processing 4: 48it [00:00, 117.92it/s]\n",
      "Processing 40: 48it [00:00, 81.30it/s]\n",
      "Processing 41: 48it [00:00, 89.14it/s]\n",
      "Processing 42: 48it [00:00, 150.71it/s]\n",
      "Processing 43: 48it [00:00, 191.07it/s]\n",
      "Processing 44: 48it [00:00, 168.85it/s]\n",
      "Processing 45: 48it [00:00, 89.26it/s]\n",
      "Processing 46: 48it [00:00, 104.99it/s]\n",
      "Processing 47: 48it [00:00, 115.69it/s]\n",
      "Processing 48: 48it [00:00, 177.91it/s]\n",
      "Processing 49: 48it [00:00, 119.67it/s]\n",
      "Processing 5: 48it [00:00, 149.72it/s]\n",
      "Processing 50: 48it [00:00, 159.51it/s]\n",
      "Processing 51: 48it [00:00, 69.04it/s]\n",
      "Processing 52: 48it [00:00, 93.21it/s]\n",
      "Processing 53: 48it [00:00, 90.05it/s]\n",
      "Processing 54: 48it [00:00, 86.93it/s]\n",
      "Processing 55: 48it [00:00, 74.48it/s]\n",
      "Processing 6: 48it [00:00, 107.57it/s]\n",
      "Processing 7: 48it [00:00, 71.12it/s]\n",
      "Processing 8: 48it [00:00, 97.98it/s]\n",
      "Processing 9: 48it [00:00, 141.96it/s]"
     ]
    },
    {
     "name": "stdout",
     "output_type": "stream",
     "text": [
      "✅ All images have been preprocessed and saved.\n"
     ]
    },
    {
     "name": "stderr",
     "output_type": "stream",
     "text": [
      "\n"
     ]
    }
   ],
   "source": [
    "# Step 5: 预处理主函数\n",
    "\n",
    "process_all_signatures()\n",
    "print(\"✅ All images have been preprocessed and saved.\")"
   ]
  },
  {
   "cell_type": "code",
   "execution_count": null,
   "id": "d7a8c2bb-76ef-44b2-a044-d339600ae188",
   "metadata": {},
   "outputs": [],
   "source": []
  }
 ],
 "metadata": {
  "kernelspec": {
   "display_name": "Python (signenv)",
   "language": "python",
   "name": "signenv"
  },
  "language_info": {
   "codemirror_mode": {
    "name": "ipython",
    "version": 3
   },
   "file_extension": ".py",
   "mimetype": "text/x-python",
   "name": "python",
   "nbconvert_exporter": "python",
   "pygments_lexer": "ipython3",
   "version": "3.10.18"
  }
 },
 "nbformat": 4,
 "nbformat_minor": 5
}
